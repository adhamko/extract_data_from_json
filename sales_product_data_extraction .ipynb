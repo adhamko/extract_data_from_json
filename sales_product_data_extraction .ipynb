{
 "cells": [
  {
   "cell_type": "code",
   "execution_count": 1,
   "id": "7a195cc5",
   "metadata": {},
   "outputs": [],
   "source": [
    "import pandas as pd\n",
    "import json \n"
   ]
  },
  {
   "cell_type": "code",
   "execution_count": 2,
   "id": "08c783ca",
   "metadata": {},
   "outputs": [],
   "source": [
    "orders=pd.read_csv('sales_orders.csv')"
   ]
  },
  {
   "cell_type": "code",
   "execution_count": 3,
   "id": "e9a3ef4c",
   "metadata": {},
   "outputs": [],
   "source": [
    "orders['line_items']=orders['line_items'].apply(json.loads)"
   ]
  },
  {
   "cell_type": "code",
   "execution_count": null,
   "id": "818f726a",
   "metadata": {},
   "outputs": [],
   "source": [
    "orders=orders.explode(\"line_items\")\n"
   ]
  },
  {
   "cell_type": "code",
   "execution_count": 6,
   "id": "60df4bb9",
   "metadata": {},
   "outputs": [
    {
     "data": {
      "application/vnd.microsoft.datawrangler.viewer.v0+json": {
       "columns": [
        {
         "name": "index",
         "rawType": "int64",
         "type": "integer"
        },
        {
         "name": "order_number",
         "rawType": "int64",
         "type": "integer"
        },
        {
         "name": "order_date",
         "rawType": "object",
         "type": "string"
        },
        {
         "name": "line_items",
         "rawType": "object",
         "type": "unknown"
        },
        {
         "name": "fulfillment",
         "rawType": "object",
         "type": "string"
        }
       ],
       "ref": "2a1cb275-bbd5-4ccd-a780-197ce03b6e59",
       "rows": [
        [
         "0",
         "387005",
         "2016-01-22",
         "{'product': {'product_name': 'MGS Age of Empires II Gold Edition2009 E172', 'product_price': 32}, 'quantity': 3}",
         "In store"
        ],
        [
         "0",
         "387005",
         "2016-01-22",
         "{'product': {'product_name': 'A. Datum Bridge Digital Camera M300 Pink', 'product_price': 186.9}, 'quantity': 2}",
         "In store"
        ],
        [
         "0",
         "387005",
         "2016-01-22",
         "{'product': {'product_name': 'WWI Desktop PC1.80 E1801 Silver', 'product_price': 269.9}, 'quantity': 1}",
         "In store"
        ],
        [
         "1",
         "395005",
         "2016-01-30",
         "{'product': {'product_name': 'Contoso DVD 60 DVD Storage Binder L20 Black', 'product_price': 22.89}, 'quantity': 5}",
         "In store"
        ],
        [
         "1",
         "395005",
         "2016-01-30",
         "{'product': {'product_name': 'SV DVD 38 DVD Storage Binder E25 Silver', 'product_price': 9.99}, 'quantity': 5}",
         "In store"
        ]
       ],
       "shape": {
        "columns": 4,
        "rows": 5
       }
      },
      "text/html": [
       "<div>\n",
       "<style scoped>\n",
       "    .dataframe tbody tr th:only-of-type {\n",
       "        vertical-align: middle;\n",
       "    }\n",
       "\n",
       "    .dataframe tbody tr th {\n",
       "        vertical-align: top;\n",
       "    }\n",
       "\n",
       "    .dataframe thead th {\n",
       "        text-align: right;\n",
       "    }\n",
       "</style>\n",
       "<table border=\"1\" class=\"dataframe\">\n",
       "  <thead>\n",
       "    <tr style=\"text-align: right;\">\n",
       "      <th></th>\n",
       "      <th>order_number</th>\n",
       "      <th>order_date</th>\n",
       "      <th>line_items</th>\n",
       "      <th>fulfillment</th>\n",
       "    </tr>\n",
       "  </thead>\n",
       "  <tbody>\n",
       "    <tr>\n",
       "      <th>0</th>\n",
       "      <td>387005</td>\n",
       "      <td>2016-01-22</td>\n",
       "      <td>{'product': {'product_name': 'MGS Age of Empir...</td>\n",
       "      <td>In store</td>\n",
       "    </tr>\n",
       "    <tr>\n",
       "      <th>0</th>\n",
       "      <td>387005</td>\n",
       "      <td>2016-01-22</td>\n",
       "      <td>{'product': {'product_name': 'A. Datum Bridge ...</td>\n",
       "      <td>In store</td>\n",
       "    </tr>\n",
       "    <tr>\n",
       "      <th>0</th>\n",
       "      <td>387005</td>\n",
       "      <td>2016-01-22</td>\n",
       "      <td>{'product': {'product_name': 'WWI Desktop PC1....</td>\n",
       "      <td>In store</td>\n",
       "    </tr>\n",
       "    <tr>\n",
       "      <th>1</th>\n",
       "      <td>395005</td>\n",
       "      <td>2016-01-30</td>\n",
       "      <td>{'product': {'product_name': 'Contoso DVD 60 D...</td>\n",
       "      <td>In store</td>\n",
       "    </tr>\n",
       "    <tr>\n",
       "      <th>1</th>\n",
       "      <td>395005</td>\n",
       "      <td>2016-01-30</td>\n",
       "      <td>{'product': {'product_name': 'SV DVD 38 DVD St...</td>\n",
       "      <td>In store</td>\n",
       "    </tr>\n",
       "  </tbody>\n",
       "</table>\n",
       "</div>"
      ],
      "text/plain": [
       "   order_number  order_date  \\\n",
       "0        387005  2016-01-22   \n",
       "0        387005  2016-01-22   \n",
       "0        387005  2016-01-22   \n",
       "1        395005  2016-01-30   \n",
       "1        395005  2016-01-30   \n",
       "\n",
       "                                          line_items fulfillment  \n",
       "0  {'product': {'product_name': 'MGS Age of Empir...    In store  \n",
       "0  {'product': {'product_name': 'A. Datum Bridge ...    In store  \n",
       "0  {'product': {'product_name': 'WWI Desktop PC1....    In store  \n",
       "1  {'product': {'product_name': 'Contoso DVD 60 D...    In store  \n",
       "1  {'product': {'product_name': 'SV DVD 38 DVD St...    In store  "
      ]
     },
     "execution_count": 6,
     "metadata": {},
     "output_type": "execute_result"
    }
   ],
   "source": [
    "orders.head()"
   ]
  },
  {
   "cell_type": "code",
   "execution_count": 7,
   "id": "0c50496f",
   "metadata": {},
   "outputs": [],
   "source": [
    "line_item_df=(pd.json_normalize(orders['line_items'],sep=\"_\")\n",
    "              .rename({'product_product_name':'product_name','product_product_price':'product_price'},axis=1)\n",
    "                               \n",
    "                               \n",
    "                               )\n",
    "                               \n"
   ]
  },
  {
   "cell_type": "code",
   "execution_count": null,
   "id": "d0b9101e",
   "metadata": {},
   "outputs": [],
   "source": [
    "results=pd.concat([orders.drop(columns=['line_items']).reset_index(drop=True),line_item_df],axis=1)"
   ]
  },
  {
   "cell_type": "code",
   "execution_count": 12,
   "id": "41ef4a71",
   "metadata": {},
   "outputs": [],
   "source": [
    "results['revenue']=results.product_price*results.quantity"
   ]
  },
  {
   "cell_type": "code",
   "execution_count": 13,
   "id": "7557ff2b",
   "metadata": {},
   "outputs": [
    {
     "data": {
      "application/vnd.microsoft.datawrangler.viewer.v0+json": {
       "columns": [
        {
         "name": "index",
         "rawType": "int64",
         "type": "integer"
        },
        {
         "name": "order_number",
         "rawType": "int64",
         "type": "integer"
        },
        {
         "name": "order_date",
         "rawType": "object",
         "type": "string"
        },
        {
         "name": "fulfillment",
         "rawType": "object",
         "type": "string"
        },
        {
         "name": "quantity",
         "rawType": "int64",
         "type": "integer"
        },
        {
         "name": "product_name",
         "rawType": "object",
         "type": "string"
        },
        {
         "name": "product_price",
         "rawType": "float64",
         "type": "float"
        },
        {
         "name": "revenue",
         "rawType": "float64",
         "type": "float"
        }
       ],
       "ref": "eb63d596-d156-4a15-a552-3c1af3891138",
       "rows": [
        [
         "0",
         "387005",
         "2016-01-22",
         "In store",
         "3",
         "MGS Age of Empires II Gold Edition2009 E172",
         "32.0",
         "96.0"
        ],
        [
         "1",
         "387005",
         "2016-01-22",
         "In store",
         "2",
         "A. Datum Bridge Digital Camera M300 Pink",
         "186.9",
         "373.8"
        ],
        [
         "2",
         "387005",
         "2016-01-22",
         "In store",
         "1",
         "WWI Desktop PC1.80 E1801 Silver",
         "269.9",
         "269.9"
        ],
        [
         "3",
         "395005",
         "2016-01-30",
         "In store",
         "5",
         "Contoso DVD 60 DVD Storage Binder L20 Black",
         "22.89",
         "114.45"
        ],
        [
         "4",
         "395005",
         "2016-01-30",
         "In store",
         "5",
         "SV DVD 38 DVD Storage Binder E25 Silver",
         "9.99",
         "49.95"
        ],
        [
         "5",
         "423011",
         "2016-02-27",
         "In store",
         "1",
         "Contoso 16GB Mp5 Player M1600 Blue",
         "199.9",
         "199.9"
        ],
        [
         "6",
         "600006",
         "2016-08-22",
         "Online",
         "1",
         "Contoso Water Heater 2.6GPM E0900 Green",
         "508.0",
         "508.0"
        ],
        [
         "7",
         "600006",
         "2016-08-22",
         "Online",
         "1",
         "The Phone Company Pen Touch Screen Phones-2.6 M320 Black",
         "290.0",
         "290.0"
        ],
        [
         "8",
         "600006",
         "2016-08-22",
         "Online",
         "6",
         "Contoso USB Wave Multi-media Keyboard E280 Black",
         "15.9",
         "95.4"
        ],
        [
         "9",
         "600006",
         "2016-08-22",
         "Online",
         "7",
         "SV 16xDVD M320 Black",
         "119.0",
         "833.0"
        ],
        [
         "10",
         "652002",
         "2016-10-13",
         "In store",
         "8",
         "Contoso Genuine Leather Grip Belt E322 Black",
         "77.99",
         "623.92"
        ],
        [
         "11",
         "666011",
         "2016-10-27",
         "In store",
         "7",
         "WWI Wireless Transmitter and Bluetooth Headphones X250 Silver",
         "249.99",
         "1749.93"
        ],
        [
         "12",
         "666011",
         "2016-10-27",
         "In store",
         "1",
         "Adventure Works Desktop PC3.0 MS300 Silver",
         "469.0",
         "469.0"
        ],
        [
         "13",
         "666011",
         "2016-10-27",
         "In store",
         "2",
         "SV 16xDVD M310 Black",
         "129.0",
         "258.0"
        ],
        [
         "14",
         "701003",
         "2016-12-01",
         "In store",
         "1",
         "Adventure Works Coffee Maker 4C E080 Black",
         "129.9",
         "129.9"
        ],
        [
         "15",
         "728013",
         "2016-12-28",
         "In store",
         "3",
         "SV DVD 58 DVD Storage Binder M55 Black",
         "13.89",
         "41.67"
        ],
        [
         "16",
         "728013",
         "2016-12-28",
         "In store",
         "2",
         "Proseware Wall Lamp E0315 Blue",
         "101.99",
         "203.98"
        ],
        [
         "17",
         "728013",
         "2016-12-28",
         "In store",
         "3",
         "Fabrikam Coffee Maker Auto 5C E090 Black",
         "163.0",
         "489.0"
        ],
        [
         "18",
         "744000",
         "2017-01-13",
         "In store",
         "6",
         "WWI Wireless Bluetooth Stereo Headphones M170 Pink",
         "120.0",
         "720.0"
        ],
        [
         "19",
         "744000",
         "2017-01-13",
         "In store",
         "3",
         "Contoso Phone with 13-Number Memory (210) M301 Grey",
         "16.99",
         "50.97"
        ],
        [
         "20",
         "744000",
         "2017-01-13",
         "In store",
         "6",
         "SV 8xDVD E100 Black",
         "69.0",
         "414.0"
        ],
        [
         "21",
         "744000",
         "2017-01-13",
         "In store",
         "2",
         "Litware Microwave 1.0CuFt E110 Silver",
         "139.99",
         "279.98"
        ],
        [
         "22",
         "755003",
         "2017-01-24",
         "Online",
         "2",
         "Proseware Laptop15.4W M518 Black",
         "758.0",
         "1516.0"
        ],
        [
         "23",
         "755003",
         "2017-01-24",
         "Online",
         "2",
         "Contoso Water Heater 1.5GPM E0800 Grey",
         "257.5",
         "515.0"
        ],
        [
         "24",
         "755003",
         "2017-01-24",
         "Online",
         "5",
         "Contoso Expandable 2-Handset Cordless Phone System M205 Grey",
         "40.19",
         "200.95"
        ],
        [
         "25",
         "786002",
         "2017-02-24",
         "In store",
         "3",
         "WWI 2GB Spy Video Recorder Pen M300 White",
         "181.0",
         "543.0"
        ],
        [
         "26",
         "799005",
         "2017-03-09",
         "In store",
         "1",
         "WWI Desktop PC1.80 E1800 Black",
         "229.9",
         "229.9"
        ],
        [
         "27",
         "911003",
         "2017-06-29",
         "In store",
         "3",
         "Fabrikam Microwave 0.8CuFt E0800 Silver",
         "94.99",
         "284.96999999999997"
        ],
        [
         "28",
         "911003",
         "2017-06-29",
         "In store",
         "3",
         "Contoso Water Heater 2.6GPM E0900 Blue",
         "508.0",
         "1524.0"
        ],
        [
         "29",
         "1020007",
         "2017-10-16",
         "In store",
         "3",
         "Contoso DVD 7-Inch Player Portable E200 Silver",
         "109.99",
         "329.96999999999997"
        ],
        [
         "30",
         "1020007",
         "2017-10-16",
         "In store",
         "2",
         "MGS Hand Games for Office worker L299 Black",
         "16.89",
         "33.78"
        ],
        [
         "31",
         "1020007",
         "2017-10-16",
         "In store",
         "1",
         "Adventure Works Laptop15.4W M1548 Black",
         "758.0",
         "758.0"
        ],
        [
         "32",
         "1020007",
         "2017-10-16",
         "In store",
         "3",
         "Contoso Water Heater 1.5GPM E0800 White",
         "257.5",
         "772.5"
        ],
        [
         "33",
         "1023001",
         "2017-10-19",
         "Online",
         "5",
         "WWI 2GB Pulse Smart pen M100 Black",
         "199.95",
         "999.75"
        ],
        [
         "34",
         "1023001",
         "2017-10-19",
         "Online",
         "2",
         "A. Datum Super-zoom Digital Camera X300 Green",
         "290.0",
         "580.0"
        ],
        [
         "35",
         "1032012",
         "2017-10-28",
         "In store",
         "1",
         "WWI 2GB Pulse Smart pen M100 Silver",
         "199.95",
         "199.95"
        ],
        [
         "36",
         "1032012",
         "2017-10-28",
         "In store",
         "1",
         "WWI Projector 1080p LCD86 Black",
         "2295.0",
         "2295.0"
        ],
        [
         "37",
         "1039011",
         "2017-11-04",
         "In store",
         "1",
         "Contoso 16GB Mp5 Player M1600 Red",
         "199.9",
         "199.9"
        ],
        [
         "38",
         "1095040",
         "2017-12-30",
         "In store",
         "1",
         "Contoso ADSL Modem Splitter/Filter X 3 E300 Black",
         "52.9",
         "52.9"
        ],
        [
         "39",
         "1095040",
         "2017-12-30",
         "In store",
         "3",
         "Proseware Color Ink Jet Fax, Copier, Phone M250 Black",
         "159.0",
         "477.0"
        ],
        [
         "40",
         "1112009",
         "2018-01-16",
         "In store",
         "1",
         "SV DVD 9-Inch Player Portable M300 White",
         "159.99",
         "159.99"
        ],
        [
         "41",
         "1121013",
         "2018-01-25",
         "Online",
         "1",
         "Contoso 16GB Mp5 Player M1600 Red",
         "199.9",
         "199.9"
        ],
        [
         "42",
         "1153005",
         "2018-02-26",
         "In store",
         "1",
         "Contoso Battery charger - bike E200 White",
         "19.9",
         "19.9"
        ],
        [
         "43",
         "1153005",
         "2018-02-26",
         "In store",
         "2",
         "WWI 1GB Pulse Smart pen E50 White",
         "149.95",
         "299.9"
        ],
        [
         "44",
         "1155018",
         "2018-02-28",
         "In store",
         "10",
         "NT Wireless Bluetooth Stereo Headphones M402 Green",
         "99.99",
         "999.9"
        ],
        [
         "45",
         "1231012",
         "2018-05-15",
         "In store",
         "2",
         "Fabrikam Social Videographer 1/2'' 3mm E300 Black",
         "170.0",
         "340.0"
        ],
        [
         "46",
         "1254000",
         "2018-06-07",
         "In store",
         "2",
         "Adventure Works Desktop PC1.80 ED182 White",
         "499.9",
         "999.8"
        ],
        [
         "47",
         "1254000",
         "2018-06-07",
         "In store",
         "3",
         "WWI Desktop PC2.33 X2330 Black",
         "919.0",
         "2757.0"
        ],
        [
         "48",
         "1255008",
         "2018-06-08",
         "In store",
         "1",
         "The Phone Company Touch Screen Phones 5-Wire/Built-in M500 Grey",
         "256.0",
         "256.0"
        ],
        [
         "49",
         "1276005",
         "2018-06-29",
         "In store",
         "2",
         "The Phone Company PDA GPS Phone 4.7 inch L950 Silver",
         "368.0",
         "736.0"
        ]
       ],
       "shape": {
        "columns": 7,
        "rows": 230
       }
      },
      "text/html": [
       "<div>\n",
       "<style scoped>\n",
       "    .dataframe tbody tr th:only-of-type {\n",
       "        vertical-align: middle;\n",
       "    }\n",
       "\n",
       "    .dataframe tbody tr th {\n",
       "        vertical-align: top;\n",
       "    }\n",
       "\n",
       "    .dataframe thead th {\n",
       "        text-align: right;\n",
       "    }\n",
       "</style>\n",
       "<table border=\"1\" class=\"dataframe\">\n",
       "  <thead>\n",
       "    <tr style=\"text-align: right;\">\n",
       "      <th></th>\n",
       "      <th>order_number</th>\n",
       "      <th>order_date</th>\n",
       "      <th>fulfillment</th>\n",
       "      <th>quantity</th>\n",
       "      <th>product_name</th>\n",
       "      <th>product_price</th>\n",
       "      <th>revenue</th>\n",
       "    </tr>\n",
       "  </thead>\n",
       "  <tbody>\n",
       "    <tr>\n",
       "      <th>0</th>\n",
       "      <td>387005</td>\n",
       "      <td>2016-01-22</td>\n",
       "      <td>In store</td>\n",
       "      <td>3</td>\n",
       "      <td>MGS Age of Empires II Gold Edition2009 E172</td>\n",
       "      <td>32.00</td>\n",
       "      <td>96.00</td>\n",
       "    </tr>\n",
       "    <tr>\n",
       "      <th>1</th>\n",
       "      <td>387005</td>\n",
       "      <td>2016-01-22</td>\n",
       "      <td>In store</td>\n",
       "      <td>2</td>\n",
       "      <td>A. Datum Bridge Digital Camera M300 Pink</td>\n",
       "      <td>186.90</td>\n",
       "      <td>373.80</td>\n",
       "    </tr>\n",
       "    <tr>\n",
       "      <th>2</th>\n",
       "      <td>387005</td>\n",
       "      <td>2016-01-22</td>\n",
       "      <td>In store</td>\n",
       "      <td>1</td>\n",
       "      <td>WWI Desktop PC1.80 E1801 Silver</td>\n",
       "      <td>269.90</td>\n",
       "      <td>269.90</td>\n",
       "    </tr>\n",
       "    <tr>\n",
       "      <th>3</th>\n",
       "      <td>395005</td>\n",
       "      <td>2016-01-30</td>\n",
       "      <td>In store</td>\n",
       "      <td>5</td>\n",
       "      <td>Contoso DVD 60 DVD Storage Binder L20 Black</td>\n",
       "      <td>22.89</td>\n",
       "      <td>114.45</td>\n",
       "    </tr>\n",
       "    <tr>\n",
       "      <th>4</th>\n",
       "      <td>395005</td>\n",
       "      <td>2016-01-30</td>\n",
       "      <td>In store</td>\n",
       "      <td>5</td>\n",
       "      <td>SV DVD 38 DVD Storage Binder E25 Silver</td>\n",
       "      <td>9.99</td>\n",
       "      <td>49.95</td>\n",
       "    </tr>\n",
       "    <tr>\n",
       "      <th>...</th>\n",
       "      <td>...</td>\n",
       "      <td>...</td>\n",
       "      <td>...</td>\n",
       "      <td>...</td>\n",
       "      <td>...</td>\n",
       "      <td>...</td>\n",
       "      <td>...</td>\n",
       "    </tr>\n",
       "    <tr>\n",
       "      <th>225</th>\n",
       "      <td>2175000</td>\n",
       "      <td>2020-12-14</td>\n",
       "      <td>In store</td>\n",
       "      <td>2</td>\n",
       "      <td>The Phone Company Smart phones without camera ...</td>\n",
       "      <td>129.00</td>\n",
       "      <td>258.00</td>\n",
       "    </tr>\n",
       "    <tr>\n",
       "      <th>226</th>\n",
       "      <td>2175000</td>\n",
       "      <td>2020-12-14</td>\n",
       "      <td>In store</td>\n",
       "      <td>4</td>\n",
       "      <td>The Phone Company PDA Phone Unlocked 3.7 inche...</td>\n",
       "      <td>238.00</td>\n",
       "      <td>952.00</td>\n",
       "    </tr>\n",
       "    <tr>\n",
       "      <th>227</th>\n",
       "      <td>2175000</td>\n",
       "      <td>2020-12-14</td>\n",
       "      <td>In store</td>\n",
       "      <td>3</td>\n",
       "      <td>Fabrikam Laptop10.1 M0101 Silver</td>\n",
       "      <td>384.90</td>\n",
       "      <td>1154.70</td>\n",
       "    </tr>\n",
       "    <tr>\n",
       "      <th>228</th>\n",
       "      <td>2175000</td>\n",
       "      <td>2020-12-14</td>\n",
       "      <td>In store</td>\n",
       "      <td>4</td>\n",
       "      <td>SV DVD 14-Inch Player Portable L100 White</td>\n",
       "      <td>259.99</td>\n",
       "      <td>1039.96</td>\n",
       "    </tr>\n",
       "    <tr>\n",
       "      <th>229</th>\n",
       "      <td>2192014</td>\n",
       "      <td>2020-12-31</td>\n",
       "      <td>In store</td>\n",
       "      <td>10</td>\n",
       "      <td>WWI Desktop PC1.80 E1801 Black</td>\n",
       "      <td>269.90</td>\n",
       "      <td>2699.00</td>\n",
       "    </tr>\n",
       "  </tbody>\n",
       "</table>\n",
       "<p>230 rows × 7 columns</p>\n",
       "</div>"
      ],
      "text/plain": [
       "     order_number  order_date fulfillment  quantity  \\\n",
       "0          387005  2016-01-22    In store         3   \n",
       "1          387005  2016-01-22    In store         2   \n",
       "2          387005  2016-01-22    In store         1   \n",
       "3          395005  2016-01-30    In store         5   \n",
       "4          395005  2016-01-30    In store         5   \n",
       "..            ...         ...         ...       ...   \n",
       "225       2175000  2020-12-14    In store         2   \n",
       "226       2175000  2020-12-14    In store         4   \n",
       "227       2175000  2020-12-14    In store         3   \n",
       "228       2175000  2020-12-14    In store         4   \n",
       "229       2192014  2020-12-31    In store        10   \n",
       "\n",
       "                                          product_name  product_price  revenue  \n",
       "0          MGS Age of Empires II Gold Edition2009 E172          32.00    96.00  \n",
       "1             A. Datum Bridge Digital Camera M300 Pink         186.90   373.80  \n",
       "2                      WWI Desktop PC1.80 E1801 Silver         269.90   269.90  \n",
       "3          Contoso DVD 60 DVD Storage Binder L20 Black          22.89   114.45  \n",
       "4              SV DVD 38 DVD Storage Binder E25 Silver           9.99    49.95  \n",
       "..                                                 ...            ...      ...  \n",
       "225  The Phone Company Smart phones without camera ...         129.00   258.00  \n",
       "226  The Phone Company PDA Phone Unlocked 3.7 inche...         238.00   952.00  \n",
       "227                   Fabrikam Laptop10.1 M0101 Silver         384.90  1154.70  \n",
       "228          SV DVD 14-Inch Player Portable L100 White         259.99  1039.96  \n",
       "229                     WWI Desktop PC1.80 E1801 Black         269.90  2699.00  \n",
       "\n",
       "[230 rows x 7 columns]"
      ]
     },
     "execution_count": 13,
     "metadata": {},
     "output_type": "execute_result"
    }
   ],
   "source": [
    "results"
   ]
  }
 ],
 "metadata": {
  "kernelspec": {
   "display_name": "Python 3",
   "language": "python",
   "name": "python3"
  },
  "language_info": {
   "codemirror_mode": {
    "name": "ipython",
    "version": 3
   },
   "file_extension": ".py",
   "mimetype": "text/x-python",
   "name": "python",
   "nbconvert_exporter": "python",
   "pygments_lexer": "ipython3",
   "version": "3.12.4"
  }
 },
 "nbformat": 4,
 "nbformat_minor": 5
}
